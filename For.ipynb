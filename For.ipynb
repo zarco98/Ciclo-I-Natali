{
  "nbformat": 4,
  "nbformat_minor": 0,
  "metadata": {
    "colab": {
      "provenance": [],
      "authorship_tag": "ABX9TyP10qto//VN8ORM0I2WiLKh",
      "include_colab_link": true
    },
    "kernelspec": {
      "name": "python3",
      "display_name": "Python 3"
    },
    "language_info": {
      "name": "python"
    }
  },
  "cells": [
    {
      "cell_type": "markdown",
      "metadata": {
        "id": "view-in-github",
        "colab_type": "text"
      },
      "source": [
        "<a href=\"https://colab.research.google.com/github/zarco98/Ciclo-I-Natali/blob/Python/For.ipynb\" target=\"_parent\"><img src=\"https://colab.research.google.com/assets/colab-badge.svg\" alt=\"Open In Colab\"/></a>"
      ]
    },
    {
      "cell_type": "markdown",
      "source": [
        "# **Lección 4: For**"
      ],
      "metadata": {
        "id": "AjSfwYK9CjZu"
      }
    },
    {
      "cell_type": "markdown",
      "source": [
        "Ejemplo 1: for loops"
      ],
      "metadata": {
        "id": "ft2S_x2lCqGq"
      }
    },
    {
      "cell_type": "code",
      "source": [
        "#Ver en pantalla los números entre 0 y 5\n",
        "\n",
        "lista=[0,1,2,3,4,5]\n",
        "\n",
        "#range(inicio, final, pasos)\n",
        "#range toma siempre el límite externo inicial e ignora el límite externo final\n",
        "\n",
        "valores=range(0,5,1) #valores=[0,1,2,3,4]\n",
        "for cadaNumero in valores:\n",
        "  print(cadaNumero)\n"
      ],
      "metadata": {
        "colab": {
          "base_uri": "https://localhost:8080/"
        },
        "id": "GR8ydtV_CpPh",
        "outputId": "98aaf822-1359-4a66-c300-d5133284985d"
      },
      "execution_count": 5,
      "outputs": [
        {
          "output_type": "stream",
          "name": "stdout",
          "text": [
            "0\n",
            "1\n",
            "2\n",
            "3\n",
            "4\n"
          ]
        }
      ]
    }
  ]
}