{
  "nbformat": 4,
  "nbformat_minor": 0,
  "metadata": {
    "colab": {
      "provenance": [],
      "authorship_tag": "ABX9TyPNemJuojpD2mEDMXNSJAcq",
      "include_colab_link": true
    },
    "kernelspec": {
      "name": "python3",
      "display_name": "Python 3"
    },
    "language_info": {
      "name": "python"
    }
  },
  "cells": [
    {
      "cell_type": "markdown",
      "metadata": {
        "id": "view-in-github",
        "colab_type": "text"
      },
      "source": [
        "<a href=\"https://colab.research.google.com/github/zarco98/Ciclo-I-Natali/blob/main/Operaciones.ipynb\" target=\"_parent\"><img src=\"https://colab.research.google.com/assets/colab-badge.svg\" alt=\"Open In Colab\"/></a>"
      ]
    },
    {
      "cell_type": "markdown",
      "source": [
        "## Lección 2: Operaciones"
      ],
      "metadata": {
        "id": "hPdJVvOAykoS"
      }
    },
    {
      "cell_type": "markdown",
      "source": [
        "**Suma**"
      ],
      "metadata": {
        "id": "HmxnGJ7Zywys"
      }
    },
    {
      "cell_type": "code",
      "source": [
        "numero1 = float(input(\"Ingrese primer número a sumar: \"))\n",
        "numero2 = float(input(\"Ingrese segundo número a sumar: \"))\n",
        "\n",
        "respuesta=numero1+numero2\n",
        "\n",
        "respuesta"
      ],
      "metadata": {
        "colab": {
          "base_uri": "https://localhost:8080/"
        },
        "id": "OlAuoUzTy16w",
        "outputId": "4268577c-1ab5-4d98-a77a-5d4b4dbfce58"
      },
      "execution_count": null,
      "outputs": [
        {
          "name": "stdout",
          "output_type": "stream",
          "text": [
            "Ingrese primer número a sumar: 10\n",
            "Ingrese segundo número a sumar: 5\n"
          ]
        },
        {
          "output_type": "execute_result",
          "data": {
            "text/plain": [
              "15.0"
            ]
          },
          "metadata": {},
          "execution_count": 1
        }
      ]
    },
    {
      "cell_type": "markdown",
      "source": [
        "**Resta**"
      ],
      "metadata": {
        "id": "xkVFjv2MzMui"
      }
    },
    {
      "cell_type": "code",
      "source": [
        "numero1 = float(input(\"Ingrese primer número a restar: \"))\n",
        "numero2 = float(input(\"Ingrese segundo número a restar: \"))\n",
        "\n",
        "respuesta=numero1-numero2\n",
        "\n",
        "respuesta"
      ],
      "metadata": {
        "colab": {
          "base_uri": "https://localhost:8080/"
        },
        "id": "2BswDls0zQJt",
        "outputId": "f4e2e886-899f-4a2e-a03e-7ad313a88fd6"
      },
      "execution_count": null,
      "outputs": [
        {
          "name": "stdout",
          "output_type": "stream",
          "text": [
            "Ingrese primer número a restar: 3\n",
            "Ingrese segundo número a restar: 9\n"
          ]
        },
        {
          "output_type": "execute_result",
          "data": {
            "text/plain": [
              "-6.0"
            ]
          },
          "metadata": {},
          "execution_count": 2
        }
      ]
    },
    {
      "cell_type": "markdown",
      "source": [
        "**Multiplicación**"
      ],
      "metadata": {
        "id": "av6eOdF6zXyx"
      }
    },
    {
      "cell_type": "code",
      "source": [
        "numero1 = float(input(\"Ingrese primer número a multiplicar: \"))\n",
        "numero2 = float(input(\"Ingrese segundo número a multiplicar: \"))\n",
        "\n",
        "respuesta=numero1*numero2\n",
        "\n",
        "respuesta"
      ],
      "metadata": {
        "colab": {
          "base_uri": "https://localhost:8080/"
        },
        "id": "XJzy0EiizbqX",
        "outputId": "580c6300-fee1-4f48-d97d-c15b6db18426"
      },
      "execution_count": null,
      "outputs": [
        {
          "name": "stdout",
          "output_type": "stream",
          "text": [
            "Ingrese primer número a multiplicar: 10\n",
            "Ingrese segundo número a multiplicar: 10\n"
          ]
        },
        {
          "output_type": "execute_result",
          "data": {
            "text/plain": [
              "100.0"
            ]
          },
          "metadata": {},
          "execution_count": 3
        }
      ]
    },
    {
      "cell_type": "markdown",
      "source": [
        "**División**"
      ],
      "metadata": {
        "id": "GZKQok0Bziqn"
      }
    },
    {
      "cell_type": "code",
      "source": [
        "dividendo = float(input(\"Ingrese dividendo: \"))\n",
        "divisor = float(input(\"Ingrese divisor: \"))\n",
        "\n",
        "cociente=dividendo/divisor\n",
        "\n",
        "#round(cociente,2)\n",
        "\n",
        "print(\"Su resultado es:\",round(cociente,2))\n"
      ],
      "metadata": {
        "colab": {
          "base_uri": "https://localhost:8080/"
        },
        "id": "Wu0BiGyNzlRF",
        "outputId": "dfe93584-a0ab-4521-b989-447e8b6bda35"
      },
      "execution_count": null,
      "outputs": [
        {
          "output_type": "stream",
          "name": "stdout",
          "text": [
            "Ingrese dividendo: 10\n",
            "Ingrese divisor: 3\n",
            "Su resultado es: 3.33\n"
          ]
        }
      ]
    },
    {
      "cell_type": "markdown",
      "source": [
        "**División entera**"
      ],
      "metadata": {
        "id": "SxKg7ytd0TSB"
      }
    },
    {
      "cell_type": "code",
      "source": [
        "dividendo = int(input(\"Ingrese dividendo: \"))\n",
        "divisor = int(input(\"Ingrese divisor: \"))\n",
        "\n",
        "cociente=dividendo//divisor\n",
        "\n",
        "print(\"Su resultado es:\",cociente)\n"
      ],
      "metadata": {
        "colab": {
          "base_uri": "https://localhost:8080/"
        },
        "id": "wWZK8JoQ0mtV",
        "outputId": "033b548c-d2f1-41a4-c732-7c1911126245"
      },
      "execution_count": null,
      "outputs": [
        {
          "output_type": "stream",
          "name": "stdout",
          "text": [
            "Ingrese dividendo: 10\n",
            "Ingrese divisor: 3\n",
            "Su resultado es: 3\n"
          ]
        }
      ]
    },
    {
      "cell_type": "markdown",
      "source": [
        "**Módulo (resto)**"
      ],
      "metadata": {
        "id": "FmSOdDvr022Z"
      }
    },
    {
      "cell_type": "code",
      "source": [
        "#Verificar si un número es par o impar\n",
        "\n",
        "numero=int(input(\"Ingrese número a verificar: \"))\n",
        "if numero%2==0:\n",
        "  print(\"Su número es par\")\n",
        "else:\n",
        "  print(\"Su número es impar\")"
      ],
      "metadata": {
        "id": "u5lMsa_d06_d",
        "colab": {
          "base_uri": "https://localhost:8080/"
        },
        "outputId": "f17b5478-893f-42b9-ee65-f72c6b6e29cb"
      },
      "execution_count": 3,
      "outputs": [
        {
          "output_type": "stream",
          "name": "stdout",
          "text": [
            "Ingrese número a verificar: 444\n",
            "Su número es par\n"
          ]
        }
      ]
    },
    {
      "cell_type": "code",
      "source": [
        "#Verificar si un número es múltiplo de 7\n",
        "\n",
        "numero=int(input(\"Ingrese número a verificar: \"))\n",
        "if numero%7==0:\n",
        "  print(\"Su número es múltiplo de 7\")\n",
        "else:\n",
        "  print(\"Su número no es múltiplo de 7\")"
      ],
      "metadata": {
        "colab": {
          "base_uri": "https://localhost:8080/"
        },
        "id": "EBCrIeZK2acz",
        "outputId": "7f8fb32e-fac2-4f11-93de-08764e19a96c"
      },
      "execution_count": 5,
      "outputs": [
        {
          "output_type": "stream",
          "name": "stdout",
          "text": [
            "Ingrese número a verificar: 58\n",
            "Su número no es múltiplo de 7\n"
          ]
        }
      ]
    },
    {
      "cell_type": "markdown",
      "source": [
        "**Potenciación**"
      ],
      "metadata": {
        "id": "WgO9Fieq20nM"
      }
    },
    {
      "cell_type": "code",
      "source": [
        "numero=4**2\n",
        "numero"
      ],
      "metadata": {
        "colab": {
          "base_uri": "https://localhost:8080/"
        },
        "id": "IXC7fnEe3_mh",
        "outputId": "6f15aba2-b5ad-478d-c7f1-46618fe67b7c"
      },
      "execution_count": 6,
      "outputs": [
        {
          "output_type": "execute_result",
          "data": {
            "text/plain": [
              "16"
            ]
          },
          "metadata": {},
          "execution_count": 6
        }
      ]
    },
    {
      "cell_type": "code",
      "source": [
        "import math\n",
        "\n",
        "base=int(input(\"Ingrese por favor el número a potenciar: \"))\n",
        "exponente=int(input(\"Ingrese por favor el exponente de potenciación: \")) \n",
        "\n",
        "math.pow(base,exponente)"
      ],
      "metadata": {
        "colab": {
          "base_uri": "https://localhost:8080/"
        },
        "id": "pFB3FQ0R4DlT",
        "outputId": "eb177786-8dfa-465e-ad95-cdc50970c64a"
      },
      "execution_count": 8,
      "outputs": [
        {
          "name": "stdout",
          "output_type": "stream",
          "text": [
            "Ingrese por favor el número a potenciar: 8\n",
            "Ingrese por favor el exponente de potenciación: 3\n"
          ]
        },
        {
          "output_type": "execute_result",
          "data": {
            "text/plain": [
              "512.0"
            ]
          },
          "metadata": {},
          "execution_count": 8
        }
      ]
    },
    {
      "cell_type": "code",
      "source": [
        "from math import * #El asterisco en esta línea trae toda la librería\n",
        "\n",
        "from math import pow # Trae sólo el método pow\n",
        "\n",
        "from math import sqrt as raiz # Trae sólo el método para sacar raíces cuadradas y le pode un \"apodo\"\n",
        "\n",
        "from math import sqrt, pow, pi # Trae sólo tres métodos de math"
      ],
      "metadata": {
        "id": "YJqL_Hgw8P7X"
      },
      "execution_count": null,
      "outputs": []
    },
    {
      "cell_type": "markdown",
      "source": [
        "**Raíz Cuadrada**"
      ],
      "metadata": {
        "id": "Y3viGT0X23rH"
      }
    },
    {
      "cell_type": "code",
      "source": [
        "numero=int(input(\"Ingrese por favor el número a verificar: \"))\n",
        "\n",
        "raiz=math.sqrt(numero)\n",
        "# raiz=raiz(numero) # Sí se importó de forma individual el método y se le asignó un alias\n",
        "\n",
        "print(\"La raíz cuadrada de\",numero,\"es: \", raiz)"
      ],
      "metadata": {
        "colab": {
          "base_uri": "https://localhost:8080/"
        },
        "id": "_FfquD8k5a1y",
        "outputId": "54533db3-02af-471d-f56d-d777130b03ca"
      },
      "execution_count": 10,
      "outputs": [
        {
          "output_type": "stream",
          "name": "stdout",
          "text": [
            "Ingrese por favor el número a verificar: 81\n",
            "La raíz cuadrada de 81 es:  9.0\n"
          ]
        }
      ]
    },
    {
      "cell_type": "markdown",
      "source": [
        "**Raíces varias**"
      ],
      "metadata": {
        "id": "QKPOkJAo57rk"
      }
    },
    {
      "cell_type": "code",
      "source": [
        "#Raíz con base y\n",
        "\n",
        "numero=float(input(\"Ingrese por favor un número: \"))\n",
        "indice=float(input(\"Ingrese por favor un índice: \"))\n",
        "raiz= numero**(1/indice)\n",
        "\n",
        "raiz"
      ],
      "metadata": {
        "colab": {
          "base_uri": "https://localhost:8080/"
        },
        "id": "zLq8_I0q5_QS",
        "outputId": "96c22f7f-c91e-4592-b534-156d839243b4"
      },
      "execution_count": 16,
      "outputs": [
        {
          "name": "stdout",
          "output_type": "stream",
          "text": [
            "Ingrese por favor un número: 32\n",
            "Ingrese por favor un índice: 5\n"
          ]
        },
        {
          "output_type": "execute_result",
          "data": {
            "text/plain": [
              "2.0"
            ]
          },
          "metadata": {},
          "execution_count": 16
        }
      ]
    },
    {
      "cell_type": "code",
      "source": [
        "#Raíces varias coon método pow\n",
        "\n",
        "numero=float(input(\"Ingrese por favor un número: \"))\n",
        "indice=float(input(\"Ingrese por favor un índice: \"))\n",
        "raiz= math.pow(numero, (1/indice))\n",
        "# raiz=pow(numero, (1/indice)) # Sí se importó el método individualmente, no es necesario llamar a la librería\n",
        "\n",
        "raiz"
      ],
      "metadata": {
        "colab": {
          "base_uri": "https://localhost:8080/"
        },
        "id": "iC-b-SdU6tQ5",
        "outputId": "45037960-bebe-44dd-a1f4-bae8f6c375a4"
      },
      "execution_count": 17,
      "outputs": [
        {
          "name": "stdout",
          "output_type": "stream",
          "text": [
            "Ingrese por favor un número: 32\n",
            "Ingrese por favor un índice: 5\n"
          ]
        },
        {
          "output_type": "execute_result",
          "data": {
            "text/plain": [
              "2.0"
            ]
          },
          "metadata": {},
          "execution_count": 17
        }
      ]
    },
    {
      "cell_type": "markdown",
      "source": [
        "**Valor absoluto**"
      ],
      "metadata": {
        "id": "pfx008cO57i-"
      }
    },
    {
      "cell_type": "code",
      "source": [
        "numero=120\n",
        "abs(numero)"
      ],
      "metadata": {
        "colab": {
          "base_uri": "https://localhost:8080/"
        },
        "id": "Ack3Hl4R9OFg",
        "outputId": "3ed73613-2cb5-47bf-f139-c9d18804f5ca"
      },
      "execution_count": 18,
      "outputs": [
        {
          "output_type": "execute_result",
          "data": {
            "text/plain": [
              "120"
            ]
          },
          "metadata": {},
          "execution_count": 18
        }
      ]
    },
    {
      "cell_type": "markdown",
      "source": [
        "**Pi**"
      ],
      "metadata": {
        "id": "TI9U-d2l9ND4"
      }
    },
    {
      "cell_type": "code",
      "source": [
        "numero=5*math.pi\n",
        "numero"
      ],
      "metadata": {
        "colab": {
          "base_uri": "https://localhost:8080/"
        },
        "id": "dCe2Kt2G9VLW",
        "outputId": "63db8f49-4bbd-4ea2-c2db-696bd2b1917f"
      },
      "execution_count": 21,
      "outputs": [
        {
          "output_type": "execute_result",
          "data": {
            "text/plain": [
              "15.707963267948966"
            ]
          },
          "metadata": {},
          "execution_count": 21
        }
      ]
    },
    {
      "cell_type": "markdown",
      "source": [
        "**Logaritmos**"
      ],
      "metadata": {
        "id": "S3dlgscL-Is6"
      }
    },
    {
      "cell_type": "code",
      "source": [
        "math.log(15)"
      ],
      "metadata": {
        "colab": {
          "base_uri": "https://localhost:8080/"
        },
        "id": "aKZC-h8h_OHo",
        "outputId": "0cfea8cc-3dd9-4fd2-b7cc-cec0bf632afd"
      },
      "execution_count": 23,
      "outputs": [
        {
          "output_type": "execute_result",
          "data": {
            "text/plain": [
              "2.70805020110221"
            ]
          },
          "metadata": {},
          "execution_count": 23
        }
      ]
    },
    {
      "cell_type": "markdown",
      "source": [
        "**Trigonometría Básica**"
      ],
      "metadata": {
        "id": "HB9gPSuX-LKK"
      }
    },
    {
      "cell_type": "code",
      "source": [
        "numero=45\n",
        "\n",
        "seno=math.sin(numero)\n",
        "coseno= math.cos(numero)\n",
        "tangente=math.tan(numero)\n",
        "#arcoseno=math.asin(numero)\n",
        "\n",
        "print(\"El seno de su número es: \", seno)\n",
        "print(\"El coseno de su número es: \", coseno)\n",
        "print(\"La tangente de su número es: \", tangente)\n",
        "#print(\"El arcoseno de su número es: \", arcoseno)"
      ],
      "metadata": {
        "colab": {
          "base_uri": "https://localhost:8080/"
        },
        "id": "3F1KV0Tf_fPc",
        "outputId": "38c9c798-b16b-4167-8f3b-3a08e2e29521"
      },
      "execution_count": 25,
      "outputs": [
        {
          "output_type": "stream",
          "name": "stdout",
          "text": [
            "El seno de su número es:  0.8509035245341184\n",
            "El coseno de su número es:  0.5253219888177297\n",
            "La tangente de su número es:  1.6197751905438615\n"
          ]
        }
      ]
    }
  ]
}