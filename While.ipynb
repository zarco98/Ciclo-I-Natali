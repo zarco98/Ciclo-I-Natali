{
  "nbformat": 4,
  "nbformat_minor": 0,
  "metadata": {
    "colab": {
      "provenance": [],
      "authorship_tag": "ABX9TyPpzrh8HszmK41lyAstGbAF",
      "include_colab_link": true
    },
    "kernelspec": {
      "name": "python3",
      "display_name": "Python 3"
    },
    "language_info": {
      "name": "python"
    }
  },
  "cells": [
    {
      "cell_type": "markdown",
      "metadata": {
        "id": "view-in-github",
        "colab_type": "text"
      },
      "source": [
        "<a href=\"https://colab.research.google.com/github/zarco98/Ciclo-I-Natali/blob/Python/While.ipynb\" target=\"_parent\"><img src=\"https://colab.research.google.com/assets/colab-badge.svg\" alt=\"Open In Colab\"/></a>"
      ]
    },
    {
      "cell_type": "markdown",
      "source": [
        "#**Lección 5: While**"
      ],
      "metadata": {
        "id": "E6tBl8hrrwrL"
      }
    },
    {
      "cell_type": "markdown",
      "source": [
        " **While Loop**"
      ],
      "metadata": {
        "id": "VH6CQyJ5r7WA"
      }
    },
    {
      "cell_type": "code",
      "source": [
        "#Haz un programa que muestre los números del 1 al 10, comenzando en 1, al final debe mostrar un mensaje.\n",
        "\n",
        "contador=1\n",
        "\n",
        "while contador<=10:\n",
        "  print(contador)\n",
        "  contador+=1 #contador=contador+1\n",
        "print(\"=====FIN DEL PROGRAMA=====\")"
      ],
      "metadata": {
        "colab": {
          "base_uri": "https://localhost:8080/"
        },
        "id": "OMLhFbFQr4p2",
        "outputId": "0bdfe05f-41ca-49da-a34d-249c1d4a2cc7"
      },
      "execution_count": 5,
      "outputs": [
        {
          "output_type": "stream",
          "name": "stdout",
          "text": [
            "1\n",
            "2\n",
            "3\n",
            "4\n",
            "5\n",
            "6\n",
            "7\n",
            "8\n",
            "9\n",
            "10\n",
            "=====FIN DEL PROGRAMA=====\n"
          ]
        }
      ]
    },
    {
      "cell_type": "markdown",
      "source": [
        "**Menú con While Loop**"
      ],
      "metadata": {
        "id": "gERnxroAxAMS"
      }
    },
    {
      "cell_type": "code",
      "source": [
        "#Cree un programa que pida un número del 1 al 10 y nos muestre nuestra selección.\n",
        "#Si el valor no corresponde a este rango, pedirlo nuevamente.\n",
        "\n",
        "opcion=int(input(\"Ingrese un número entre 1 y 10: \"))\n",
        "\n",
        "while opcion<1 or opcion>10:\n",
        "  opcion=int(input(\"Ingrese un número entre 1 y 10: \"))\n",
        "\n",
        "print(\"La opción seleccionada fue: \",opcion)\n",
        "\n",
        "print(\"=====FIN DEL PROGRAMA=====\")"
      ],
      "metadata": {
        "colab": {
          "base_uri": "https://localhost:8080/"
        },
        "id": "fLAz-h9cxH-r",
        "outputId": "b00e13fa-295e-43fd-e802-5f54c6460b9b"
      },
      "execution_count": 7,
      "outputs": [
        {
          "output_type": "stream",
          "name": "stdout",
          "text": [
            "Ingrese un número entre 1 y 10: 11\n",
            "Ingrese un número entre 1 y 10: 5\n",
            "La opción seleccionada fue:  5\n",
            "=====FIN DEL PROGRAMA=====\n"
          ]
        }
      ]
    },
    {
      "cell_type": "code",
      "source": [
        "#Desarrolle un programa que solicite al usuario dos números enteros: n y m.\n",
        "#El programa debe mostrar la suma de todos los números entre n y m, incluidos n y m.\n",
        "\n",
        "#n=5\n",
        "#m=12\n",
        "#A sumar= [5,6,7,8,9,10,11,12]\n",
        "\n",
        "n=int(input(\"Ingrese un número por favor: \"))\n",
        "m=int(input(\"Ingrese un número mayor que n por favor: \"))\n",
        "\n",
        "acumulador=0\n",
        "for i in range(n,m+1,1):\n",
        "  acumulador=acumulador+i\n",
        "print(\"\\n\",acumulador)\n",
        "\n",
        "\n",
        "#Primera vuelta\n",
        "#i=5\n",
        "#acumulador=0+5 -> acumulador=5\n",
        "\n",
        "#Segunda vuelta\n",
        "#i=6\n",
        "#acumulador=5\n",
        "#acumulador=5+6 -> acumulador=11\n",
        "\n",
        "#Tercera vuelta\n",
        "#i=7\n",
        "#acumulador=11\n",
        "#acumulador=11+7 -> acumulador=18\n"
      ],
      "metadata": {
        "colab": {
          "base_uri": "https://localhost:8080/"
        },
        "id": "qWZ2o3f10wXv",
        "outputId": "fa00ce18-be8d-40dc-96be-317ec18fc791"
      },
      "execution_count": 11,
      "outputs": [
        {
          "output_type": "stream",
          "name": "stdout",
          "text": [
            "Ingrese un número por favor: 5\n",
            "Ingrese un número mayor que n por favor: 12\n",
            "\n",
            " 68\n"
          ]
        }
      ]
    },
    {
      "cell_type": "markdown",
      "source": [
        "**While + if + else + break**"
      ],
      "metadata": {
        "id": "PE69bKH4xGd7"
      }
    },
    {
      "cell_type": "code",
      "source": [
        "#Programa que pida número de 3 cifras y nos de su ráiz cuadrada, su raíz cúbica y valor elevado a la 5ta potencia.\n",
        "#Mientras el número no tenga 3 cifras, corregir el número.\n",
        "#Si el número es 0, finalice el programa.\n",
        "\n",
        "import math\n",
        "\n",
        "numero=input(\"Por favor ingrese un número de 3 cifras: \")\n",
        "while len(numero)!=3:\n",
        "  if numero==\"0\":\n",
        "    print(\"\\n=====FIN DEL PROGRAMA=====\")\n",
        "    break\n",
        "  numero=input(\"Por favor ingrese un número de 3 cifras: \")\n",
        "else:\n",
        "    numero=int(numero)\n",
        "    raizcuadrada=round(math.sqrt(numero),2)\n",
        "    print(\"La raíz cuadrada de su número es: \",raizcuadrada)\n",
        "    raizCubica=round(numero**(1/3),2)\n",
        "    print(\"La raíz cúbica de su número es: \",raizCubica)\n",
        "    potencia=numero**5\n",
        "    print(\"Su número elevado a la quinta potencia es: \",potencia)\n",
        "\n",
        "    print(\"\\n=====FIN DEL PROGRAMA=====\")\n",
        "\n",
        "\n"
      ],
      "metadata": {
        "colab": {
          "base_uri": "https://localhost:8080/"
        },
        "id": "5te2TcGn0VEU",
        "outputId": "a07aea84-4a45-4d8e-bb12-cc48d7888b5f"
      },
      "execution_count": 19,
      "outputs": [
        {
          "output_type": "stream",
          "name": "stdout",
          "text": [
            "Por favor ingrese un número de 3 cifras: 345\n",
            "La raíz cuadrada de su número es:  18.57\n",
            "La raíz cúbica de su número es:  7.01\n",
            "Su número elevado a la quinta potencia es:  4887597965625\n",
            "\n",
            "=====FIN DEL PROGRAMA=====\n"
          ]
        }
      ]
    }
  ]
}