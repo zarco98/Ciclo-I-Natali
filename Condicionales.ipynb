{
  "nbformat": 4,
  "nbformat_minor": 0,
  "metadata": {
    "colab": {
      "provenance": [],
      "authorship_tag": "ABX9TyN/oTN+MeXdutl33/F2hAPc",
      "include_colab_link": true
    },
    "kernelspec": {
      "name": "python3",
      "display_name": "Python 3"
    },
    "language_info": {
      "name": "python"
    }
  },
  "cells": [
    {
      "cell_type": "markdown",
      "metadata": {
        "id": "view-in-github",
        "colab_type": "text"
      },
      "source": [
        "<a href=\"https://colab.research.google.com/github/zarco98/Ciclo-I-Natali/blob/main/Condicionales.ipynb\" target=\"_parent\"><img src=\"https://colab.research.google.com/assets/colab-badge.svg\" alt=\"Open In Colab\"/></a>"
      ]
    },
    {
      "cell_type": "markdown",
      "source": [
        "**Lección 3: Condicionales**"
      ],
      "metadata": {
        "id": "35RNbRDNBQHl"
      }
    },
    {
      "cell_type": "markdown",
      "source": [
        "Ejemplo 1: If Simple"
      ],
      "metadata": {
        "id": "xDylthRzBVuL"
      }
    },
    {
      "cell_type": "code",
      "execution_count": 3,
      "metadata": {
        "colab": {
          "base_uri": "https://localhost:8080/"
        },
        "id": "MjtNb_Y8BPJ9",
        "outputId": "94f6c901-bed2-4f80-b8ad-54aabe93fe02"
      },
      "outputs": [
        {
          "output_type": "stream",
          "name": "stdout",
          "text": [
            "Ingrese su nota final: 3.41\n",
            "\n",
            " Felicitaciones! Pasó el curso\n"
          ]
        }
      ],
      "source": [
        "nota=float(input(\"Ingrese su nota final: \"))\n",
        "if nota>=3:\n",
        "  print(\"\\n Felicitaciones! Pasó el curso\")"
      ]
    },
    {
      "cell_type": "markdown",
      "source": [
        "Ejemplo 2: if...else"
      ],
      "metadata": {
        "id": "7jkRbBG_BwSv"
      }
    },
    {
      "cell_type": "code",
      "source": [
        "nota=float(input(\"Ingrese su nota final: \"))\n",
        "if nota>=3:\n",
        "  print(\"\\n Felicitaciones! Pasó el curso\")\n",
        "else:\n",
        "  print(\"\\n Lo sentimos! Perdiste el curso\")"
      ],
      "metadata": {
        "colab": {
          "base_uri": "https://localhost:8080/"
        },
        "id": "txFLpMreBy3G",
        "outputId": "bef45f69-8f27-49fe-8a8f-6a65c00ee63a"
      },
      "execution_count": 5,
      "outputs": [
        {
          "output_type": "stream",
          "name": "stdout",
          "text": [
            "Ingrese su nota final: 3.0\n",
            "\n",
            " Felicitaciones! Pasó el curso\n"
          ]
        }
      ]
    }
  ]
}