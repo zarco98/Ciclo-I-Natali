{
  "nbformat": 4,
  "nbformat_minor": 0,
  "metadata": {
    "colab": {
      "provenance": [],
      "authorship_tag": "ABX9TyMVnc5LFGRRa800O6GsdsYQ",
      "include_colab_link": true
    },
    "kernelspec": {
      "name": "python3",
      "display_name": "Python 3"
    },
    "language_info": {
      "name": "python"
    }
  },
  "cells": [
    {
      "cell_type": "markdown",
      "metadata": {
        "id": "view-in-github",
        "colab_type": "text"
      },
      "source": [
        "<a href=\"https://colab.research.google.com/github/zarco98/Ciclo-I-Natali/blob/Python/Condicionales.ipynb\" target=\"_parent\"><img src=\"https://colab.research.google.com/assets/colab-badge.svg\" alt=\"Open In Colab\"/></a>"
      ]
    },
    {
      "cell_type": "markdown",
      "source": [
        "**Lección 3: Condicionales**"
      ],
      "metadata": {
        "id": "35RNbRDNBQHl"
      }
    },
    {
      "cell_type": "markdown",
      "source": [
        "Ejemplo 1: If Simple"
      ],
      "metadata": {
        "id": "xDylthRzBVuL"
      }
    },
    {
      "cell_type": "code",
      "execution_count": 3,
      "metadata": {
        "colab": {
          "base_uri": "https://localhost:8080/"
        },
        "id": "MjtNb_Y8BPJ9",
        "outputId": "94f6c901-bed2-4f80-b8ad-54aabe93fe02"
      },
      "outputs": [
        {
          "output_type": "stream",
          "name": "stdout",
          "text": [
            "Ingrese su nota final: 3.41\n",
            "\n",
            " Felicitaciones! Pasó el curso\n"
          ]
        }
      ],
      "source": [
        "nota=float(input(\"Ingrese su nota final: \"))\n",
        "if nota>=3:\n",
        "  print(\"\\n Felicitaciones! Pasó el curso\")"
      ]
    },
    {
      "cell_type": "markdown",
      "source": [
        "Ejemplo 2: if...else"
      ],
      "metadata": {
        "id": "7jkRbBG_BwSv"
      }
    },
    {
      "cell_type": "code",
      "source": [
        "nota=float(input(\"Ingrese su nota final: \"))\n",
        "if nota>=3:\n",
        "  print(\"\\n Felicitaciones! Pasó el curso\")\n",
        "else:\n",
        "  print(\"\\n Lo sentimos! Perdiste el curso\")"
      ],
      "metadata": {
        "colab": {
          "base_uri": "https://localhost:8080/"
        },
        "id": "txFLpMreBy3G",
        "outputId": "bef45f69-8f27-49fe-8a8f-6a65c00ee63a"
      },
      "execution_count": 5,
      "outputs": [
        {
          "output_type": "stream",
          "name": "stdout",
          "text": [
            "Ingrese su nota final: 3.0\n",
            "\n",
            " Felicitaciones! Pasó el curso\n"
          ]
        }
      ]
    },
    {
      "cell_type": "markdown",
      "source": [
        "Ejemplo 3: if...elif (else if)"
      ],
      "metadata": {
        "id": "RiIsjeD_lrIt"
      }
    },
    {
      "cell_type": "code",
      "source": [
        "#elif para condiciones mutuamente excluyentes.\n",
        "edad=int(input(\"Por favor escribe tu edad: \"))\n",
        "if edad<=12:\n",
        "  print(\"\\nEres un niño\")\n",
        "elif edad>12 and edad<=18:\n",
        "  print(\"\\nEres un adolescente\")\n",
        "elif edad>18 and edad<=70:\n",
        "  print(\"\\nEres un adulto\")\n",
        "else:\n",
        "  print(\"\\nEres una persona mayor\")"
      ],
      "metadata": {
        "colab": {
          "base_uri": "https://localhost:8080/"
        },
        "id": "EBOIw6talzgc",
        "outputId": "e4a3a3c5-6440-49d8-bb8d-6525a0ed9a30"
      },
      "execution_count": 15,
      "outputs": [
        {
          "output_type": "stream",
          "name": "stdout",
          "text": [
            "Por favor escribe tu edad: 24\n",
            "\n",
            "Eres un adulto\n",
            "\n",
            " Eres un adulto joven\n"
          ]
        }
      ]
    },
    {
      "cell_type": "code",
      "source": [
        "#if, if, if, else; No son mutuamente excluyentes.\n",
        "numero=int(input(\"Escribe por favor tu número: \"))\n",
        "\n",
        "if numero>=0:\n",
        "  print(\"\\nEl número es positivo\")\n",
        "if numero%2==0:\n",
        "  print(\"\\nEl número es par\")\n",
        "if numero%3==0:\n",
        "  print(\"\\nEl número es múltiplo de 3\")\n",
        "else:\n",
        "  print(\"\\nEl número no es múltiplo de 3\")"
      ],
      "metadata": {
        "colab": {
          "base_uri": "https://localhost:8080/"
        },
        "id": "AmKBZZ2Qs7bU",
        "outputId": "3b35090a-158f-409f-85c5-bb1f710b5f40"
      },
      "execution_count": 17,
      "outputs": [
        {
          "output_type": "stream",
          "name": "stdout",
          "text": [
            "Escribe por favor tu número: 58\n",
            "\n",
            "El número es positivo\n",
            "\n",
            "El número es par\n",
            "\n",
            "El número no es múltiplo de 3\n"
          ]
        }
      ]
    },
    {
      "cell_type": "markdown",
      "source": [
        "Ejemplo 5: if anidado"
      ],
      "metadata": {
        "id": "B97b6563y0DE"
      }
    },
    {
      "cell_type": "code",
      "source": [
        "from IPython.core.display import clear_output\n",
        "\n",
        "print(\"Seleccione una opción de merienda: \")\n",
        "print(\"a. Desayuno\")\n",
        "print(\"b. Almuerzo\")\n",
        "print(\"c. Cena\")\n",
        "\n",
        "opcion=input(\"\\n¿Cuál es su elección?\")\n",
        "if opcion==\"a\":\n",
        "  print(\"\\n¿Qué desea beber?\")\n",
        "  print(\"a. Café\")\n",
        "  print(\"b. Jugo\")\n",
        "  print(\"c. Chocolate\")\n",
        "  bebida=input()\n",
        "  clear_output()\n",
        "  if bebida==\"a\":\n",
        "    print(\"Usted desayunará con café\")\n",
        "  elif bebida==\"b\":\n",
        "    print(\"Usted desayunará con jugo\")\n",
        "  elif bebida==\"c\":\n",
        "    print(\"Usted desayunará con chocolate\")\n",
        "  else:\n",
        "    print(\"¿Es en serio? Esa opción no está en el menú :@\")\n",
        "\n",
        "\n",
        "elif opcion==\"b\":\n",
        "  print(\"\\n¿Qué desea beber?\")\n",
        "  print(\"a. Jugo\")\n",
        "  print(\"b. Soda\")\n",
        "  print(\"c. Cerveza\")\n",
        "  bebida=input()\n",
        "  clear_output()\n",
        "  if bebida==\"a\":\n",
        "    print(\"Usted almorzará con jugo\")\n",
        "  elif bebida==\"b\":\n",
        "    print(\"Usted almorzará con soda\")\n",
        "  elif bebida==\"c\":\n",
        "    print(\"Usted almorzará con cerveza\")\n",
        "  else:\n",
        "    print(\"¿Es en serio? Esa opción no está en el menú :@\")\n",
        "\n",
        "elif opcion==\"c\":\n",
        "  print(\"\\n¿Qué desea beber?\")\n",
        "  print(\"a. Vino\")\n",
        "  print(\"b. Soda\")\n",
        "  print(\"c. Agua\")\n",
        "  bebida=input()\n",
        "  clear_output()\n",
        "  if bebida==\"a\":\n",
        "    print(\"Usted cenará con vino\")\n",
        "  elif bebida==\"b\":\n",
        "    print(\"Usted cenará con soda\")\n",
        "  elif bebida==\"c\":\n",
        "    print(\"Usted cenará con agua\")\n",
        "  else:\n",
        "    print(\"¿Es en serio? Esa opción no está en el menú :@\")\n",
        " \n",
        "else:\n",
        "  print(\"Ha elegido una opción incorrecta\")\n",
        "\n",
        "print(\"*****FIN DEL PROGRAMA*****\")\n",
        "\n",
        "\n",
        "      "
      ],
      "metadata": {
        "colab": {
          "base_uri": "https://localhost:8080/"
        },
        "id": "bh2xh5I_yzbl",
        "outputId": "fcc1810e-371f-447a-9b86-31176d0488ba"
      },
      "execution_count": 31,
      "outputs": [
        {
          "output_type": "stream",
          "name": "stdout",
          "text": [
            "Usted desayunará con café\n",
            "*****FIN DEL PROGRAMA*****\n"
          ]
        }
      ]
    }
  ]
}